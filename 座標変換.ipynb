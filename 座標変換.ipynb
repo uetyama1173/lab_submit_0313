{
  "nbformat": 4,
  "nbformat_minor": 0,
  "metadata": {
    "colab": {
      "provenance": [],
      "authorship_tag": "ABX9TyN3kIAVAd4UW/eOhC5CSR1m",
      "include_colab_link": true
    },
    "kernelspec": {
      "name": "python3",
      "display_name": "Python 3"
    },
    "language_info": {
      "name": "python"
    },
    "accelerator": "TPU",
    "gpuClass": "standard"
  },
  "cells": [
    {
      "cell_type": "markdown",
      "metadata": {
        "id": "view-in-github",
        "colab_type": "text"
      },
      "source": [
        "<a href=\"https://colab.research.google.com/github/uetyama1173/lab_submit_0313/blob/main/%E5%BA%A7%E6%A8%99%E5%A4%89%E6%8F%9B.ipynb\" target=\"_parent\"><img src=\"https://colab.research.google.com/assets/colab-badge.svg\" alt=\"Open In Colab\"/></a>"
      ]
    },
    {
      "cell_type": "code",
      "source": [
        "import numpy as np\n",
        "import pandas as pd\n",
        "from google.colab import drive\n",
        "drive.mount('/content/drive')"
      ],
      "metadata": {
        "colab": {
          "base_uri": "https://localhost:8080/"
        },
        "id": "DqfyMtwwB2gA",
        "outputId": "cd823d39-59de-427b-8b8b-d509b231cc6b"
      },
      "execution_count": null,
      "outputs": [
        {
          "output_type": "stream",
          "name": "stdout",
          "text": [
            "Mounted at /content/drive\n"
          ]
        }
      ]
    },
    {
      "cell_type": "code",
      "source": [
        "# #回転行列\n",
        "# rm = [\n",
        "#     [0.258308155507, 0.489830343724, -0.832672244833],\n",
        "#     [-0.96552640035, 0.102188655475, -0.239407821714],\n",
        "#     [-0.032179561945, 0.865808073717, 0.499340323117]\n",
        "# ]\n",
        "\n",
        "# #並進ベクトル\n",
        "# t = [-53795.6390101524, 175464.274179345, -137364.024953453]\n",
        "\n",
        "\n",
        "# #リスト形式をNumpy配列に変換\n",
        "# rm_numpy = np.array(rm)\n",
        "# t_numpy = np.array(t)\n",
        "\n",
        "# # CSVファイルを読み込む\n",
        "# df = pd.read_csv('/content/drive/MyDrive/研究/研究課題_0313_その4/pcd_001.csv', header=None)\n",
        "# print(len(df))\n",
        "\n",
        "# # XYZ座標のみを抽出\n",
        "# points_a = df.iloc[:, :3]\n",
        "\n",
        "# # 列名を設定する\n",
        "# points_b = []\n"
      ],
      "metadata": {
        "id": "YfSecmb0CNYJ"
      },
      "execution_count": null,
      "outputs": []
    },
    {
      "cell_type": "code",
      "source": [
        "import pandas as pd\n",
        "import numpy as np\n",
        "\n",
        "# 回転行列と並進ベクトル\n",
        "rm = [\n",
        "    [0.258308155507, 0.489830343724, -0.832672244833],\n",
        "    [-0.96552640035, 0.102188655475, -0.239407821714],\n",
        "    [-0.032179561945, 0.865808073717, 0.499340323117]\n",
        "]\n",
        "t = [-53795.6390101524, 175464.274179345, -137364.024953453]\n",
        "\n",
        "# リスト形式をNumpy配列に変換\n",
        "rm_numpy = np.array(rm)\n",
        "t_numpy = np.array(t)\n",
        "\n",
        "# CSVファイルを読み込む\n",
        "df = pd.read_csv('/content/drive/MyDrive/研究/研究課題_0313_その4/pcd_001.csv', header=None)\n",
        "\n",
        "# XYZ座標のみを抽出してNumPy配列に変換する \n",
        "points_a = df.iloc[:, :3].values\n",
        "\n",
        "points_trans=[]\n",
        "\n",
        "# 座標変換を行う\n",
        "for i in range(len(df)):\n",
        "  transformed = np.dot(rm_numpy,points_a[i])\n",
        "  transformed = np.add(transformed, t_numpy)\n",
        "  points_trans.append(transformed)\n",
        "\n",
        "# NumPy配列をpandasのDataFrameに変換する\n",
        "df_trans = pd.DataFrame(points_trans, columns=['X', 'Y', 'Z'])\n",
        "\n",
        "# 元のDataFrameにRGBとIntensityの列を追加する\n",
        "df[['Red', 'Green', 'Blue', 'Intensity']] = df.iloc[:, 3:].values\n",
        "\n",
        "# 変換後の座標データにRGBとIntensityの列を追加する\n",
        "df_trans[['Red', 'Green', 'Blue', 'Intensity']] = df[['Red', 'Green', 'Blue', 'Intensity']]\n",
        "\n",
        "# # 新しいCSVファイルに保存する\n",
        "# df_trans.to_csv('/content/drive/MyDrive/研究/研究課題_0313_その4/pcd_001_trans.csv', index=False)"
      ],
      "metadata": {
        "id": "LDBB977MMcID"
      },
      "execution_count": null,
      "outputs": []
    },
    {
      "cell_type": "markdown",
      "source": [
        "確認"
      ],
      "metadata": {
        "id": "tKDQOFNQTWkr"
      }
    },
    {
      "cell_type": "code",
      "source": [
        "# # CSVファイルを読み込む\n",
        "# df = pd.read_csv('/content/drive/MyDrive/研究/研究課題_0313_その4/pcd_001_trans.csv', header=None)\n",
        "\n",
        "# print(df.head())"
      ],
      "metadata": {
        "id": "wW1Nqe8nOGjx"
      },
      "execution_count": null,
      "outputs": []
    }
  ]
}