{
  "nbformat": 4,
  "nbformat_minor": 0,
  "metadata": {
    "colab": {
      "provenance": [],
      "authorship_tag": "ABX9TyPdtUmcHKJxnP2g350TIZZ0",
      "include_colab_link": true
    },
    "kernelspec": {
      "name": "python3",
      "display_name": "Python 3"
    },
    "language_info": {
      "name": "python"
    },
    "accelerator": "TPU",
    "gpuClass": "standard"
  },
  "cells": [
    {
      "cell_type": "markdown",
      "metadata": {
        "id": "view-in-github",
        "colab_type": "text"
      },
      "source": [
        "<a href=\"https://colab.research.google.com/github/uetyama1173/lab_submit_0313/blob/main/%E5%BA%A7%E6%A8%99%E5%A4%89%E6%8F%9B.ipynb\" target=\"_parent\"><img src=\"https://colab.research.google.com/assets/colab-badge.svg\" alt=\"Open In Colab\"/></a>"
      ]
    },
    {
      "cell_type": "code",
      "source": [
        "import numpy as np\n",
        "import pandas as pd\n",
        "from google.colab import drive\n",
        "drive.mount('/content/drive')"
      ],
      "metadata": {
        "id": "DqfyMtwwB2gA"
      },
      "execution_count": null,
      "outputs": []
    },
    {
      "cell_type": "code",
      "source": [
        "# 回転行列と並進ベクトル\n",
        "rm = [\n",
        "    [0.258308155507, 0.489830343724, -0.832672244833],\n",
        "    [-0.96552640035, 0.102188655475, -0.239407821714],\n",
        "    [-0.032179561945, 0.865808073717, 0.499340323117]\n",
        "]\n",
        "t = [-53795.6390101524, 175464.274179345, -137364.024953453]\n",
        "\n",
        "# リスト形式をNumpy配列に変換\n",
        "rm_numpy = np.array(rm)\n",
        "t_numpy = np.array(t)\n",
        "\n",
        "# CSVファイルを読み込む\n",
        "df = pd.read_csv('/content/drive/MyDrive/研究/研究課題_0313_その4/pcd_001.csv', header=None)\n",
        "\n",
        "# XYZ座標のみを抽出してNumPy配列に変換する \n",
        "points_a = df.iloc[:, :3].values\n",
        "\n",
        "# 座標変換を行う\n",
        "transformed = np.dot(points_a, rm_numpy.T)\n",
        "transformed = np.add(transformed, t_numpy)\n",
        "\n",
        "# NumPy配列をpandasのDataFrameに変換する\n",
        "df_trans = pd.DataFrame(transformed, columns=['X', 'Y', 'Z'])\n",
        "\n",
        "# 元のDataFrameにRGBとIntensityの列を追加する\n",
        "df[['Red', 'Green', 'Blue', 'Intensity']] = df.iloc[:, 3:].values\n",
        "\n",
        "# 変換後の座標データにRGBとIntensityの列を追加する\n",
        "df_trans[['Red', 'Green', 'Blue', 'Intensity']] = df[['Red', 'Green', 'Blue', 'Intensity']]\n",
        "\n",
        "# # 新しいCSVファイルに保存する\n",
        "df_trans.to_csv('/content/drive/MyDrive/研究/研究課題_0313_その4/pcd_001_trans_NotFor.csv', index=False)"
      ],
      "metadata": {
        "id": "LDBB977MMcID"
      },
      "execution_count": 7,
      "outputs": []
    },
    {
      "cell_type": "markdown",
      "source": [
        "確認"
      ],
      "metadata": {
        "id": "tKDQOFNQTWkr"
      }
    },
    {
      "cell_type": "code",
      "source": [
        "# CSVファイルを読み込む\n",
        "df = pd.read_csv('/content/drive/MyDrive/研究/研究課題_0313_その4/pcd_001_trans_NotFor.csv', header=None)\n",
        "\n",
        "print(df.head())"
      ],
      "metadata": {
        "colab": {
          "base_uri": "https://localhost:8080/"
        },
        "id": "uNpZDtyNaSQU",
        "outputId": "c1e253a3-ac23-4238-e6ec-a46b4dd08d2b"
      },
      "execution_count": 8,
      "outputs": [
        {
          "output_type": "stream",
          "name": "stderr",
          "text": [
            "/usr/local/lib/python3.9/dist-packages/IPython/core/interactiveshell.py:3326: DtypeWarning: Columns (0,1,2,3,4,5,6) have mixed types.Specify dtype option on import or set low_memory=False.\n",
            "  exec(code_obj, self.user_global_ns, self.user_ns)\n"
          ]
        },
        {
          "output_type": "stream",
          "name": "stdout",
          "text": [
            "                    0                   1                  2    3      4  \\\n",
            "0                   X                   Y                  Z  Red  Green   \n",
            "1    33018.9690852178  159903.98811666205   71.6737717227661  0.0  175.0   \n",
            "2  33018.982817240045  159904.20266927234  71.65872658099397  0.0  175.0   \n",
            "3   33018.99498238435  159904.44926495623  71.64078595422325  0.0  255.0   \n",
            "4  33019.006245219614  159904.64686084288   71.6291391030536  0.0  255.0   \n",
            "\n",
            "       5          6  \n",
            "0   Blue  Intensity  \n",
            "1  240.0       25.0  \n",
            "2  240.0       25.0  \n",
            "3  124.0       50.0  \n",
            "4  124.0       50.0  \n"
          ]
        }
      ]
    }
  ]
}